{
 "cells": [
  {
   "cell_type": "markdown",
   "id": "1000bfc3",
   "metadata": {},
   "source": [
    "Question: Which words / phrases appear more in toxic content?"
   ]
  },
  {
   "cell_type": "code",
   "execution_count": 30,
   "id": "1d96cdf5",
   "metadata": {},
   "outputs": [],
   "source": [
    "import pandas as pd\n",
    "import time\n",
    "\n",
    "df = pd.read_csv('Sample_labaled_data.csv')"
   ]
  },
  {
   "cell_type": "code",
   "execution_count": 11,
   "id": "d6213f19",
   "metadata": {},
   "outputs": [
    {
     "name": "stdout",
     "output_type": "stream",
     "text": [
      "       Unnamed: 0                id  \\\n",
      "0               5  0001ea8717f6de06   \n",
      "1               7  000247e83dcc1211   \n",
      "2              11  0002f87b16116a7f   \n",
      "3              13  0003e1cccfd5a40a   \n",
      "4              14  00059ace3e3e9a53   \n",
      "...           ...               ...   \n",
      "55247      153147  fff83b80284d8440   \n",
      "55248      153149  fff8f521a7dbcd47   \n",
      "55249      153150  fff8f64043129fa2   \n",
      "55250      153151  fff9d70fe0722906   \n",
      "55251      153154  fffa8a11c4378854   \n",
      "\n",
      "                                            comment_text toxic  \n",
      "0      Thank you for understanding I think very highl...    no  \n",
      "1                         Dear god this site is horrible    no  \n",
      "2       Somebody will invariably try to add Religion ...    no  \n",
      "3        It says it right there that it IS a type The...    no  \n",
      "4         Before adding a new product to the list mak...    no  \n",
      "...                                                  ...   ...  \n",
      "55247  Consensus for ruining Wikipedia I think that c...    no  \n",
      "55248  shut down the mexican border withought looking...    no  \n",
      "55249  Jerome I see you never got around to this… I’m...    no  \n",
      "55250  Lucky bastard  httpwikimediafoundationorgwikiP...    no  \n",
      "55251  shame on you all  You want to speak about gays...    no  \n",
      "\n",
      "[55252 rows x 4 columns]\n"
     ]
    }
   ],
   "source": [
    "print(df)"
   ]
  },
  {
   "cell_type": "markdown",
   "id": "c9a23165",
   "metadata": {},
   "source": [
    "This is the function that I will utilize to request the Perspective API for my personal evaluation. I created my API key and incorporated it into API_KEY."
   ]
  },
  {
   "cell_type": "code",
   "execution_count": 33,
   "id": "2ddb7c6d",
   "metadata": {},
   "outputs": [],
   "source": [
    "from googleapiclient.discovery import build\n",
    "import json\n",
    "\n",
    "def get_toxicity_score(comment):\n",
    "    \n",
    "  API_KEY = 'my-api-key' # Put your API key here\n",
    "    \n",
    "  client = build(\n",
    "  \"commentanalyzer\",\n",
    "  \"v1alpha1\",\n",
    "  developerKey=API_KEY,\n",
    "  discoveryServiceUrl=\"https://commentanalyzer.googleapis.com/$discovery/rest?version=v1alpha1\",\n",
    "  )\n",
    "\n",
    "  analyze_request = {\n",
    "  'comment': { 'text': comment },\n",
    "  'requestedAttributes': {'TOXICITY': {}}\n",
    "  }\n",
    "    \n",
    "  response = client.comments().analyze(body=analyze_request).execute()\n",
    "  toxicity_score = response[\"attributeScores\"][\"TOXICITY\"][\"summaryScore\"][\"value\"]\n",
    "    \n",
    "  return toxicity_score"
   ]
  },
  {
   "cell_type": "markdown",
   "id": "d37866eb",
   "metadata": {},
   "source": [
    "Upon analyzing the data, I hypothesized that a comment was considered toxic if it used female family gendered pronouns such as mom, mother, etc. in comparison to male family gendered pronouns such as dad, father, etc. "
   ]
  },
  {
   "cell_type": "code",
   "execution_count": 37,
   "id": "b69a4ea2",
   "metadata": {},
   "outputs": [
    {
     "name": "stdout",
     "output_type": "stream",
     "text": [
      "ur mom 0.28425202\n",
      "ur dad 0.15435068\n",
      "ur moms ugly 0.8364697\n",
      "ur dads ugly 0.78207105\n",
      "ur mom is rachet 0.5024724\n",
      "ur dad is rachet 0.43720075\n",
      "ur moms a hoe 0.8460273\n",
      "ur dads a hoe 0.82048255\n",
      "i love hot moms 0.4269174\n",
      "i love hot dads 0.4402136\n",
      "thats why ur mom left you 0.36867723\n",
      "thats why ur dad left u 0.30136615\n",
      "mom 0.039935954\n",
      "dad 0.02826718\n",
      "mommy 0.044388983\n",
      "daddy 0.04711028\n",
      "mother 0.083999306\n",
      "father 0.02638162\n",
      "ur mother 0.3250515\n",
      "ur father 0.14429577\n"
     ]
    }
   ],
   "source": [
    "comment_list = ['ur mom', 'ur dad', 'ur moms ugly', 'ur dads ugly', 'ur mom is rachet', 'ur dad is rachet', 'ur moms a hoe', 'ur dads a hoe', 'i love hot moms', 'i love hot dads', 'thats why ur mom left you', 'thats why ur dad left u', 'mom', 'dad', 'mommy', 'daddy', 'mother','father','ur mother', 'ur father']\n",
    "score_list = []\n",
    "\n",
    "for comment in comment_list:\n",
    "    score = get_toxicity_score(comment)\n",
    "    score_list.append(score)\n",
    "    print(comment, score)\n",
    "    time.sleep(1)"
   ]
  },
  {
   "cell_type": "markdown",
   "id": "b1c7e5fe",
   "metadata": {},
   "source": [
    "Based on my tests, I have found that my hypothesis was accurate. The Perspective API evaluated identical comments differently when the terms 'mom' or 'mommy' were replaced with 'dad' or 'daddy'. In every case, comments that referred to a female parent received a higher toxicity score compared to those referring to a male parent."
   ]
  }
 ],
 "metadata": {
  "kernelspec": {
   "display_name": "Python 3 (ipykernel)",
   "language": "python",
   "name": "python3"
  },
  "language_info": {
   "codemirror_mode": {
    "name": "ipython",
    "version": 3
   },
   "file_extension": ".py",
   "mimetype": "text/x-python",
   "name": "python",
   "nbconvert_exporter": "python",
   "pygments_lexer": "ipython3",
   "version": "3.9.13"
  }
 },
 "nbformat": 4,
 "nbformat_minor": 5
}
